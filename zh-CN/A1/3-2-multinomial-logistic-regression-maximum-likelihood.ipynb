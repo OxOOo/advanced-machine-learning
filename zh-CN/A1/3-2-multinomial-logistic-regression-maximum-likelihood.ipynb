{
 "cells": [
  {
   "cell_type": "markdown",
   "metadata": {},
   "source": [
    "多分类逻辑回归问题的极大似然解法\n",
    "========="
   ]
  },
  {
   "cell_type": "code",
   "execution_count": 1,
   "metadata": {},
   "outputs": [
    {
     "data": {
      "text/plain": [
       "'1.3.1'"
      ]
     },
     "execution_count": 1,
     "metadata": {},
     "output_type": "execute_result"
    }
   ],
   "source": [
    "import numpy as np\n",
    "from matplotlib import pyplot as plt\n",
    "import torch\n",
    "\n",
    "np.random.seed(0xff)\n",
    "torch.manual_seed(0xff)\n",
    "torch.__version__"
   ]
  },
  {
   "cell_type": "markdown",
   "metadata": {},
   "source": [
    "前面已经介绍了二分类问题的解法，如果有$K>2$个类别的话，如何处理呢？\n",
    "\n",
    "课件中介绍了一种比较神奇的建模方法，我觉得比较有趣，所以用代码来实现一下。\n",
    "\n",
    "先来看数据："
   ]
  },
  {
   "cell_type": "code",
   "execution_count": 2,
   "metadata": {},
   "outputs": [
    {
     "data": {
      "image/png": "[encoded data removed]",
      "text/plain": [
       "<Figure size 432x288 with 1 Axes>"
      ]
     },
     "metadata": {
      "needs_background": "light"
     },
     "output_type": "display_data"
    }
   ],
   "source": [
    "def genpoint(x, y):\n",
    "    return (np.random.randint(-3, 4) + x, np.random.randint(-3, 4) + y)\n",
    "\n",
    "class1_points = np.array([genpoint(5, 6) for _ in range(10)])\n",
    "class2_points = np.array([genpoint(-5, 4) for _ in range(10)])\n",
    "class3_points = np.array([genpoint(-2, -6) for _ in range(10)])\n",
    "class4_points = np.array([genpoint(7, -6) for _ in range(10)])\n",
    "\n",
    "test_x = np.array([genpoint(5, 6), genpoint(-5, 4), genpoint(-2, -6), genpoint(7, -6)])\n",
    "test_y = np.array([1, 2, 3, 4])\n",
    "\n",
    "plt.scatter(class1_points[:, 0], class1_points[:, 1], marker='^', label='class 1')\n",
    "plt.scatter(class2_points[:, 0], class2_points[:, 1], marker='s', label='class 2')\n",
    "plt.scatter(class3_points[:, 0], class3_points[:, 1], marker='o', label='class 3')\n",
    "plt.scatter(class4_points[:, 0], class4_points[:, 1], marker='*', label='class 4')\n",
    "plt.legend()\n",
    "plt.show()"
   ]
  },
  {
   "cell_type": "markdown",
   "metadata": {},
   "source": [
    "在这里我们假设一共有$K=4$类点，它们的分布如上图。\n",
    "\n",
    "对于多分类问题，一个办法是转化为$K$个二分类问题，就是对每个类别做一个\"输入$x$是否属于该类别\"的分类器。但是这个办法存在的问题一是正例和负例的不均衡，另一个问题是如何将$K$个二分类器的答案合并到一起。\n",
    "\n",
    "课件中介绍了一种巧妙的方法。首先我们选择一个轴类别(pivot)，然后用轴类别的概率来表示其他$K-1$个类别的概率。\n",
    "\n",
    "在这里，我们选择最后一个类别(第$K$类)作为轴类别，然后设定其他类别的概率关于第$K$类别的关系：\n",
    "\n",
    "$$\n",
    "\\begin{align*}\n",
    "log \\frac{P(y=1|x,w)}{P(y=K|x,w)} & = w^{(1)T} x \\\\\n",
    "log \\frac{P(y=2|x,w)}{P(y=K|x,w)} & = w^{(2)T} x \\\\\n",
    "\\vdots \\\\\n",
    "log \\frac{P(y=K-1|x,w)}{P(y=K|x,w)} & = w^{(K-1)T} x\n",
    "\\end{align*}\n",
    "$$\n",
    "\n",
    "其中，$x$是一个输入样例，$P(y=1|x,w)$表示在输入为$x$，参数为$w$的情况下，该输入属于第$1$类别的概率。$w$是我们分类器所用到的参数，包含$K-1$个列向量，$w^{(1)}$表示参数$w$的第$1$个列向量，即$w = [w^{(1)}, w^{(2)}, \\cdots, w^{(K-1)}]$。$w^{(1)T}$表示$w^{(1)}$的转置。\n",
    "\n",
    "对上面的等式两边同时取对数，并将$P(y=K|x,w)$移到右边，可得：\n",
    "\n",
    "$$\n",
    "\\begin{align*}\n",
    "P(y=1|x,w) & = P(y=K|x,w) \\times e^{w^{(1)T} x} \\\\\n",
    "P(y=2|x,w) & = P(y=K|x,w) \\times e^{w^{(2)T} x} \\\\\n",
    "\\vdots \\\\\n",
    "P(y=K-1|x,w) & = P(y=K|x,w) \\times e^{w^{(K-1)T} x}\n",
    "\\end{align*}\n",
    "$$\n",
    "\n",
    "然后，由于同一个输入属于$K$个类别的概率之和应该等于$1$，因此有：\n",
    "\n",
    "$$\n",
    "\\begin{align*}\n",
    "\\sum_{l=1}^K P(y=l|x,w) & = \\sum_{l=1}^{K-1} \\left( P(y=K|x,w) \\times e^{w^{(l)T} x} \\right) + P(y=K|x,w) \\\\\n",
    "    & = P(y=K|x,w) \\times \\left( 1 + \\sum_{l=1}^{K-1} e^{w^{(l)T} x} \\right) \\\\\n",
    "    & = 1\n",
    "\\end{align*}\n",
    "$$\n",
    "\n",
    "所以可以计算出第$K$类的概率应该为：\n",
    "\n",
    "$$\n",
    "P(y=K|x,w) = \\frac{1}{1 + \\sum_{l=1}^{K-1} e^{w^{(l)T} x}}\n",
    "$$\n",
    "\n",
    "将此概率代回前$K-1$类别的概率公式，可以得到每个类别的概率：\n",
    "\n",
    "$$\n",
    "P(y=i|x,w) = \\frac{e^{w^{(i)T} x}}{1 + \\sum_{l=1}^{K-1} e^{w^{(l)T} x}}\n",
    "$$\n",
    "\n",
    "到此，我们就拥有了一个可以根据输入$x$和参数$w$，计算该输入属于每个类别的概率的模型。然后可以计算出log-likelihood:\n",
    "\n",
    "$$\n",
    "L(w) = \\sum_{i=1}^{K} \\sum_{x \\in samples(i)} log(P(y=i|x,w))\n",
    "$$\n",
    "\n",
    "其中$samples(i)$是属于第$i$类的点的集合。\n",
    "\n",
    "$L(w)$的完整公式非常复杂，对其进行求导是非常困难的。万幸的是我们只需要使用pytorch构建出计算图，它可以自动帮我们求导。\n",
    "\n",
    "代码中用到了几个技巧，虽然会增加一些计算两，但是可以大大简化我们的编程复杂度。\n",
    "\n",
    "技巧一是我们可以添加一个“假”的参数$w^{(K)}$，参数$w^{(K)}$不可学习并且永远都等于$0$。有了这个假的参数，每个类别的概率公式可以统一为：\n",
    "\n",
    "$$\n",
    "P(y=i|x,w) = \\frac{e^{w^{(i)T} x}}{\\sum_{l=1}^{K} e^{w^{(l)T} x}}\n",
    "$$\n",
    "\n",
    "这是由于$w^{(K)}=0$，因此$e^{w^{(K)T} x}$永远等于$1$。通过这种方式我们将所有类别的概率公式统一了。\n",
    "\n",
    "技巧二是使用了一个mask技巧，详见代码（实际上类似机器学习中的one-hot向量）。"
   ]
  },
  {
   "cell_type": "code",
   "execution_count": 3,
   "metadata": {},
   "outputs": [
    {
     "name": "stdout",
     "output_type": "stream",
     "text": [
      "x[:, 0] is [5. 4. 1.]\n",
      "y[:, 0] is [1. 0. 0. 0.]\n"
     ]
    }
   ],
   "source": [
    "K = 4 # 总共4个类别\n",
    "\n",
    "x = np.concatenate([\n",
    "    np.concatenate([class1_points, np.ones((len(class1_points), 1))], axis=1),\n",
    "    np.concatenate([class2_points, np.ones((len(class2_points), 1))], axis=1),\n",
    "    np.concatenate([class3_points, np.ones((len(class3_points), 1))], axis=1),\n",
    "    np.concatenate([class4_points, np.ones((len(class4_points), 1))], axis=1)\n",
    "]).T # 构造输入，添加一个值为1的维度（解决常数项）\n",
    "print('x[:, 0] is', x[:, 0]) # x的每个列向量是一个输入\n",
    "\n",
    "y = np.concatenate([\n",
    "    np.repeat(np.eye(K)[0][np.newaxis, :], len(class1_points), axis=0),\n",
    "    np.repeat(np.eye(K)[1][np.newaxis, :], len(class2_points), axis=0),\n",
    "    np.repeat(np.eye(K)[2][np.newaxis, :], len(class3_points), axis=0),\n",
    "    np.repeat(np.eye(K)[3][np.newaxis, :], len(class4_points), axis=0),\n",
    "]).T\n",
    "print('y[:, 0] is', y[:, 0]) # y的每个列向量是一个one-hot向量，对应类别那一维为1\n",
    "\n",
    "x = torch.from_numpy(x).float()\n",
    "y = torch.from_numpy(y).float()"
   ]
  },
  {
   "cell_type": "markdown",
   "metadata": {},
   "source": [
    "设置输入输出数据"
   ]
  },
  {
   "cell_type": "code",
   "execution_count": 4,
   "metadata": {},
   "outputs": [
    {
     "data": {
      "text/plain": [
       "tensor([[0.7677, 0.0509, 0.0971],\n",
       "        [0.9270, 0.4893, 0.6929],\n",
       "        [0.1402, 0.1885, 0.2482]], requires_grad=True)"
      ]
     },
     "execution_count": 4,
     "metadata": {},
     "output_type": "execute_result"
    }
   ],
   "source": [
    "w = torch.rand((3, K-1), requires_grad=True).float() # 设置参数，每个列向量表示一个参数\n",
    "w"
   ]
  },
  {
   "cell_type": "code",
   "execution_count": 5,
   "metadata": {},
   "outputs": [],
   "source": [
    "learning_rate = 0.001\n",
    "steps = 10000"
   ]
  },
  {
   "cell_type": "markdown",
   "metadata": {},
   "source": [
    "设置学习相关的参数"
   ]
  },
  {
   "cell_type": "code",
   "execution_count": 6,
   "metadata": {},
   "outputs": [
    {
     "name": "stdout",
     "output_type": "stream",
     "text": [
      "step = 0, L = -73.45039367675781, output = [0.979637  0.9798994 0.9928874 0.9947305]\n",
      "step = 1000, L = -0.48518943786621094, output = [0.9982991  0.99596524 0.99536735 0.99894625]\n",
      "step = 2000, L = -0.2683483064174652, output = [0.9990372 0.9982565 0.9965726 0.9993309]\n",
      "step = 3000, L = -0.18784287571907043, output = [0.9993243 0.9989587 0.9972493 0.9995122]\n",
      "step = 4000, L = -0.1452285796403885, output = [0.99948084 0.9992845  0.99768674 0.9996181 ]\n",
      "step = 5000, L = -0.1186867356300354, output = [0.9995797  0.9994677  0.99799526 0.99968743]\n",
      "step = 6000, L = -0.10050812363624573, output = [0.99964803 0.99958307 0.9982258  0.9997363 ]\n",
      "step = 7000, L = -0.08725056052207947, output = [0.99969804 0.9996616  0.9984054  0.9997726 ]\n",
      "step = 8000, L = -0.07713961601257324, output = [0.99973613 0.9997179  0.99854976 0.9998005 ]\n",
      "step = 9000, L = -0.06916699558496475, output = [0.9997661  0.99975985 0.99866843 0.9998227 ]\n"
     ]
    }
   ],
   "source": [
    "for step in range(steps):\n",
    "    w.requires_grad_(True) # 需要计算w的梯度\n",
    "    ww = torch.cat([w, torch.zeros(3, 1)], dim=1) # 最后一个参数始终为0\n",
    "    \n",
    "    output = torch.exp(torch.mm(ww.T, x))\n",
    "    output = output / torch.sum(output, dim=0)\n",
    "    output = torch.sum(output * y, dim=0) # 计算每个数据被正确的概率\n",
    "\n",
    "    L = torch.sum(torch.log(output)) # 计算log-likelihood\n",
    "    L.backward()\n",
    "    \n",
    "    w = w + learning_rate * w.grad\n",
    "    w = w.detach()\n",
    "    \n",
    "    if step % 1000 == 0:\n",
    "        print(f'step = {step}, L = {L.item()}, output = {output.detach().numpy()[:4]}')"
   ]
  },
  {
   "cell_type": "markdown",
   "metadata": {},
   "source": [
    "在迭代了这么多轮之后，log-likelihood已经收敛到非常小，输出的概率值也精确了"
   ]
  },
  {
   "cell_type": "code",
   "execution_count": 7,
   "metadata": {},
   "outputs": [],
   "source": [
    "# 将参数导出成numpy数组\n",
    "w = np.concatenate([w.numpy(), np.zeros((3, 1))], axis=1)\n",
    "\n",
    "# 准备测试数据\n",
    "test_x = np.concatenate([test_x, np.ones((len(test_x), 1))], axis=1).T"
   ]
  },
  {
   "cell_type": "code",
   "execution_count": 8,
   "metadata": {},
   "outputs": [
    {
     "name": "stdout",
     "output_type": "stream",
     "text": [
      "output class is [0 1 2 3] with probability [0.99997939 0.99999817 0.99985336 0.98700659], tree class is [0 1 2 3]\n"
     ]
    }
   ],
   "source": [
    "output = np.exp(np.dot(w.T, test_x))\n",
    "output = output / np.sum(output, axis=0) # 计算每个类别概率\n",
    "\n",
    "classes = np.argmax(output, axis=0)\n",
    "probability = np.max(output, axis=0)\n",
    "print(f'output class is {classes} with probability {probability}, tree class is {test_y - 1}')"
   ]
  },
  {
   "cell_type": "markdown",
   "metadata": {},
   "source": [
    "可以看到，在测试数据上，我们的分类器也能够正确的进行分类。\n",
    "\n",
    "如果读者对机器学习有一些了解的话，可以看到，当我们添加了参数$w^{(K)}=0$之后，每个类别的概率其实是一个softmax函数。实际上在本例中也可以不指定$w^{(K)}=0$，而是使它成为一个可以学习的参数，同样可以得到一个非常好的分类器。"
   ]
  }
 ],
 "metadata": {
  "kernelspec": {
   "display_name": "Python 3",
   "language": "python",
   "name": "python3"
  },
  "language_info": {
   "codemirror_mode": {
    "name": "ipython",
    "version": 3
   },
   "file_extension": ".py",
   "mimetype": "text/x-python",
   "name": "python",
   "nbconvert_exporter": "python",
   "pygments_lexer": "ipython3",
   "version": "3.6.9"
  }
 },
 "nbformat": 4,
 "nbformat_minor": 2
}
